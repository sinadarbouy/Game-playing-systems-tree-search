{
 "cells": [
  {
   "cell_type": "markdown",
   "metadata": {},
   "source": [
    "## Monte Carlo Tree Search\n"
   ]
  },
  {
   "cell_type": "code",
   "execution_count": 16,
   "metadata": {},
   "outputs": [],
   "source": [
    "import numpy as np\n",
    "import math  \n",
    "import random\n"
   ]
  },
  {
   "cell_type": "code",
   "execution_count": 17,
   "metadata": {},
   "outputs": [],
   "source": [
    "class Node():\n",
    "    def __init__(self, state, parent):\n",
    "        self.state = state #State of the game board\n",
    "        self.is_terminal = state.is_terminal()\n",
    "        self.is_expanded_completly = self.is_terminal\n",
    "        self.parent = parent\n",
    "        self.children = {}\n",
    "        self.N = 0 #Number of nodes visited\n",
    "        self.Q = 0 #total simulation rewards"
   ]
  },
  {
   "cell_type": "markdown",
   "metadata": {},
   "source": [
    "$UCT = \\frac{Q}{N} + c\\sqrt{\\frac{\\log{N}}{N}}$\n"
   ]
  },
  {
   "cell_type": "code",
   "execution_count": null,
   "metadata": {},
   "outputs": [],
   "source": [
    "class monte_carlo_tree_search():\n",
    "    \n",
    "\n",
    "    def expand(self,node):\n",
    "        actions = node.state.available_actions()\n",
    "        for action in actions not in node.children:\n",
    "            new_node = Node(node.state.perform_action(action), node)\n",
    "            node.children[action] = new_node\n",
    "            if len(actions) == len(node.children):\n",
    "                node.is_expanded_completly = True\n",
    "                return new_node\n",
    "            \n",
    "    def calculate_values(self, node, c):\n",
    "        max_value = - math.inf\n",
    "        good_options = []\n",
    "\n",
    "        def calculate_value(node,child,c):\n",
    "            return node.state.player * ( child.Q / child.N ) + c * np.sqrt(  np.log(node.N) / child.N )\n",
    "\n",
    "        for child in node.children.values():\n",
    "            uct =calculate_value(node,child,c)\n",
    "            if uct > max_value:\n",
    "                max_value = uct\n",
    "                good_options = [child]\n",
    "            elif uct == max_value:\n",
    "                good_options.append(child)\n",
    "            return random.choice(good_options)\n"
   ]
  },
  {
   "cell_type": "code",
   "execution_count": 21,
   "metadata": {},
   "outputs": [],
   "source": [
    "class Action():\n",
    "    def __init__(self, player, x, y):\n",
    "        self.player = player\n",
    "        self.x = x\n",
    "        self.y = y"
   ]
  },
  {
   "cell_type": "code",
   "execution_count": 67,
   "metadata": {},
   "outputs": [],
   "source": [
    "from copy import deepcopy\n",
    "from functools import reduce\n"
   ]
  },
  {
   "cell_type": "code",
   "execution_count": 68,
   "metadata": {},
   "outputs": [],
   "source": [
    "class Tic_Tac_Toe():\n",
    "    def __init__(self, size=3):\n",
    "        self.size = size\n",
    "        self.board = (np.zeros((size, size))).tolist()\n",
    "        self.player = 1  \n",
    "\n",
    "    def available_actions(self):\n",
    "        actions = []\n",
    "        for i in range(self.size):\n",
    "            for j in range(self.size):\n",
    "                if self.board[i][j] == 0:\n",
    "                    actions.append(Action(self.player, x=i, y=j))\n",
    "        return actions\n",
    "    \n",
    "    def play_action(self, action : Action):\n",
    "        new_state = deepcopy(self)\n",
    "        new_state.board[action.x][action.y] = action.player\n",
    "        new_state.player = self.player * -1\n",
    "        return new_state\n",
    "    \n",
    "    # Terminal nodes\n",
    "    def is_end_state(self):\n",
    "        # first chekc row\n",
    "        for row in self.board:\n",
    "            if abs(sum(row)) == self.size:\n",
    "                return True\n",
    "        # second check column\n",
    "        for column in np.transpose(self.board):\n",
    "            if abs(sum(column)) == self.size:\n",
    "                return True\n",
    "        \n",
    "        # check for diagonals\n",
    "        if sum(np.diag(self.board)) == self.size or sum(np.diag(np.rot90(self.board))):\n",
    "            return True\n",
    "\n",
    "        return reduce(operator.mul, sum(self.board, []), 1)\n",
    "    \n",
    "    def print_board(self):\n",
    "        for i in self.board:\n",
    "            for j in i:\n",
    "                if j == -1: print('O', end='\\t') # for first player\n",
    "                elif j == 1: print('X', end='\\t') # for second playe\n",
    "                else: print('-', end='\\t')\n",
    "            print(\"\")\n",
    "        print('____________________________\\n')\n",
    "\n",
    "    # -1 for O and 1 for X\n",
    "    def get_reward(self):\n",
    "        for row in self.board:\n",
    "            if abs(sum(row)) == self.board_size:\n",
    "                return sum(row) / self.board_size\n",
    "        for column in list(map(list, zip(*self.board))):\n",
    "            if abs(sum(column)) == self.board_size:\n",
    "                return sum(column) / self.board_size\n",
    "        for diagonal in [[self.board[i][i] for i in range(len(self.board))], [self.board[i][len(self.board) - i - 1] for i in range(len(self.board))]]:\n",
    "            if abs(sum(diagonal)) == self.board_size:\n",
    "                return sum(diagonal) / self.board_size\n",
    "        return False\n",
    "\n",
    "    def who_wins(self,result):\n",
    "        if result == 1:\n",
    "        # print(\"Game over\")\n",
    "            print(\"Result: X wins!!\")\n",
    "        elif result == -1:\n",
    "        # print(\"Game over\")\n",
    "            print(\"Result: O wins!!\")\n",
    "        else:\n",
    "        # print(\"Game over\")\n",
    "            print(\"Result: Draw!!!\")\n",
    "\n",
    "\n",
    "    \n"
   ]
  },
  {
   "cell_type": "code",
   "execution_count": 18,
   "metadata": {},
   "outputs": [],
   "source": [
    "_board = (np.zeros((3, 3))).tolist()"
   ]
  },
  {
   "cell_type": "code",
   "execution_count": 63,
   "metadata": {},
   "outputs": [],
   "source": [
    "_board[2][0] = 1\n"
   ]
  },
  {
   "cell_type": "code",
   "execution_count": 60,
   "metadata": {},
   "outputs": [
    {
     "name": "stdout",
     "output_type": "stream",
     "text": [
      "1.0\n",
      "1.0\n",
      "1.0\n"
     ]
    }
   ],
   "source": [
    "\n",
    "for colum in np.transpose(_board):\n",
    "    print(sum(colum))"
   ]
  },
  {
   "cell_type": "code",
   "execution_count": 66,
   "metadata": {},
   "outputs": [
    {
     "data": {
      "text/plain": [
       "1.0"
      ]
     },
     "execution_count": 66,
     "metadata": {},
     "output_type": "execute_result"
    }
   ],
   "source": [
    "sum(np.diag(_board))"
   ]
  },
  {
   "cell_type": "code",
   "execution_count": 65,
   "metadata": {},
   "outputs": [
    {
     "data": {
      "text/plain": [
       "array([1., 0., 1.])"
      ]
     },
     "execution_count": 65,
     "metadata": {},
     "output_type": "execute_result"
    }
   ],
   "source": [
    "np.diag(np.rot90(_board))"
   ]
  },
  {
   "cell_type": "code",
   "execution_count": 51,
   "metadata": {},
   "outputs": [
    {
     "name": "stdout",
     "output_type": "stream",
     "text": [
      "[1]\n",
      "1\n",
      "[0.0]\n",
      "0.0\n",
      "[0.0]\n",
      "0.0\n"
     ]
    }
   ],
   "source": [
    "for row in _board:\n",
    "    column = [row[1]]\n",
    "    print(column)\n",
    "    print(sum(column))\n"
   ]
  },
  {
   "cell_type": "code",
   "execution_count": null,
   "metadata": {},
   "outputs": [],
   "source": []
  }
 ],
 "metadata": {
  "interpreter": {
   "hash": "b3ba2566441a7c06988d0923437866b63cedc61552a5af99d1f4fb67d367b25f"
  },
  "kernelspec": {
   "display_name": "Python 3.8.8 ('base')",
   "language": "python",
   "name": "python3"
  },
  "language_info": {
   "codemirror_mode": {
    "name": "ipython",
    "version": 3
   },
   "file_extension": ".py",
   "mimetype": "text/x-python",
   "name": "python",
   "nbconvert_exporter": "python",
   "pygments_lexer": "ipython3",
   "version": "3.8.8"
  },
  "orig_nbformat": 4
 },
 "nbformat": 4,
 "nbformat_minor": 2
}
